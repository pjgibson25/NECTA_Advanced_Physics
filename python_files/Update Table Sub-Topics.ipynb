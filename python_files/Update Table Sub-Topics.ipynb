{
 "cells": [
  {
   "cell_type": "code",
   "execution_count": 32,
   "metadata": {},
   "outputs": [],
   "source": [
    "import numpy as np\n",
    "import pandas as pd\n",
    "import string\n",
    "import os \n",
    "from IPython.display import display, Markdown, Latex\n",
    "from IPython.display import clear_output\n",
    "import time\n",
    "\n",
    "current_dir = os.getcwd()\n"
   ]
  },
  {
   "cell_type": "code",
   "execution_count": 33,
   "metadata": {},
   "outputs": [
    {
     "name": "stdout",
     "output_type": "stream",
     "text": [
      "Current Version:  V18\n"
     ]
    }
   ],
   "source": [
    "os.chdir('../csv_files/')\n",
    "subtopics_key = pd.read_csv('topics_and_subtopics.csv')\n",
    "sbtk = np.array(subtopics_key).astype(str)\n",
    "topics_key = pd.read_csv('topics_key.csv')\n",
    "tk = np.array(topics_key)\n",
    "\n",
    "files_in_dir = np.array(os.listdir())\n",
    "cond = [files_in_dir[i][:3]=='big' for i in np.arange(0,len(files_in_dir))]\n",
    "bigtables = files_in_dir[cond]\n",
    "cur_version = max(np.array([bigtables[i][10:12] for i in np.arange(0,len(bigtables))]).astype(int))\n",
    "cur_version_num = cur_version\n",
    "\n",
    "if cur_version<10:\n",
    "    cur_version = '0'+str(cur_version)\n",
    "else:\n",
    "    cur_version = str(cur_version)\n",
    "    \n",
    "data_pd = pd.read_csv('bigtable_v'+cur_version+'.csv')\n",
    "data = np.array(data_pd)\n",
    "remaining = sum(data[:,5] == '.')\n",
    "finished_today = 0\n",
    "\n",
    "print('Current Version:  V'+cur_version)"
   ]
  },
  {
   "cell_type": "code",
   "execution_count": null,
   "metadata": {},
   "outputs": [],
   "source": [
    "len(d)"
   ]
  },
  {
   "cell_type": "code",
   "execution_count": 36,
   "metadata": {},
   "outputs": [
    {
     "data": {
      "text/plain": [
       "array(['2', '2', '2', ..., '2', '2', '2'], dtype=object)"
      ]
     },
     "execution_count": 36,
     "metadata": {},
     "output_type": "execute_result"
    }
   ],
   "source": [
    "data[:,3]"
   ]
  },
  {
   "cell_type": "code",
   "execution_count": null,
   "metadata": {},
   "outputs": [],
   "source": []
  },
  {
   "cell_type": "code",
   "execution_count": null,
   "metadata": {},
   "outputs": [],
   "source": []
  },
  {
   "cell_type": "code",
   "execution_count": null,
   "metadata": {},
   "outputs": [],
   "source": []
  },
  {
   "cell_type": "code",
   "execution_count": 37,
   "metadata": {},
   "outputs": [
    {
     "name": "stdout",
     "output_type": "stream",
     "text": [
      "@('_')@  @('_')@  @('_')@  @('_')@  @('_')@  @('_')@  @('_')@  @('_')@  @('_')@  @('_')@  \n",
      "\n",
      "\n",
      "@('_')@  @('_')@  @('_')@  @('_')@  @('_')@  @('_')@  @('_')@  @('_')@  @('_')@  @('_')@  \n",
      "\n",
      "\n",
      "@('_')@  @('_')@  @('_')@  @('_')@  @('_')@  @('_')@  @('_')@  @('_')@  @('_')@  @('_')@  \n",
      "\n",
      "\n",
      "@('_')@  @('_')@  @('_')@  @('_')@  @('_')@  @('_')@  @('_')@  @('_')@  @('_')@  @('_')@  \n",
      "\n",
      "\n",
      "@('_')@  @('_')@  @('_')@  @('_')@  @('_')@  @('_')@  @('_')@  @('_')@  @('_')@  @('_')@  \n",
      "\n",
      "\n",
      "@('_')@  @('_')@  @('_')@  @('_')@  @('_')@  @('_')@  @('_')@  @('_')@  @('_')@  @('_')@  \n",
      "\n",
      "\n"
     ]
    }
   ],
   "source": [
    "for i in np.arange(0,len(tk)):\n",
    "    print('@(\\'_\\')@  ' *10+'\\n\\n')\n",
    "    cur_topic = tk[i,1]\n",
    "    cond_top = sbtk[:,0] == cur_topic\n",
    "    subtopics = sbtk[cond_top]\n",
    "    # If current topic matches and no assigned subtopic\n",
    "    for j in np.arange(0,len(data)):\n",
    "        if (data[j,4] == cur_topic)&(data[j,5] == '.'):\n",
    "            print(cur_topic+'\\n')\n",
    "            display(Latex(data[j,1]))\n",
    "            time.sleep(0.5)\n",
    "            usr_input = input('Sub-Topic Number:  ')\n",
    "            clear_output(wait=True)\n",
    "            for k in np.arange(0,len(subtopics)):\n",
    "                if (usr_input == subtopics[k,2][-1]):\n",
    "                    data[j,5] = subtopics[k,1]\n",
    "                    finished_today += 1\n",
    "                elif (usr_input == '0'):\n",
    "                    data[j,4] = '.'\n",
    "                    finished_today += 1\n"
   ]
  },
  {
   "cell_type": "code",
   "execution_count": 29,
   "metadata": {},
   "outputs": [
    {
     "name": "stdout",
     "output_type": "stream",
     "text": [
      "Topic: \n"
     ]
    },
    {
     "data": {
      "text/html": [
       "<style  type=\"text/css\" >\n",
       "</style><table id=\"T_e1d9ccd4_9724_11ea_848b_b92ed883c184\" ><thead>    <tr>        <th class=\"col_heading level0 col0\" >Sub-Topic</th>        <th class=\"col_heading level0 col1\" >Num</th>    </tr></thead><tbody>\n",
       "        </tbody></table>"
      ],
      "text/plain": [
       "<pandas.io.formats.style.Styler at 0x7f9d5bbfe908>"
      ]
     },
     "execution_count": 29,
     "metadata": {},
     "output_type": "execute_result"
    }
   ],
   "source": [
    "inputz = input('Topic: ')\n",
    "cond_top = sbtk[:,0] == inputz\n",
    "subtopics = sbtk[cond_top]\n",
    "lastnum = np.array([subtopics[i,2][-1] for i in np.arange(0,len(subtopics))])\n",
    "datazed = pd.DataFrame(np.column_stack((subtopics[:,1],lastnum)))\n",
    "datazed.columns = ['Sub-Topic','Num']\n",
    "datazed.style.hide_index()"
   ]
  },
  {
   "cell_type": "code",
   "execution_count": 30,
   "metadata": {},
   "outputs": [
    {
     "data": {
      "text/html": [
       "<style  type=\"text/css\" >\n",
       "</style><table id=\"T_e205f5d4_9724_11ea_848b_b92ed883c184\" ><thead>    <tr>        <th class=\"col_heading level0 col0\" >Topic_number</th>        <th class=\"col_heading level0 col1\" >Topic_name</th>    </tr></thead><tbody>\n",
       "                <tr>\n",
       "                                <td id=\"T_e205f5d4_9724_11ea_848b_b92ed883c184row0_col0\" class=\"data row0 col0\" >1</td>\n",
       "                        <td id=\"T_e205f5d4_9724_11ea_848b_b92ed883c184row0_col1\" class=\"data row0 col1\" >Measurement</td>\n",
       "            </tr>\n",
       "            <tr>\n",
       "                                <td id=\"T_e205f5d4_9724_11ea_848b_b92ed883c184row1_col0\" class=\"data row1 col0\" >2</td>\n",
       "                        <td id=\"T_e205f5d4_9724_11ea_848b_b92ed883c184row1_col1\" class=\"data row1 col1\" >Mechanics</td>\n",
       "            </tr>\n",
       "            <tr>\n",
       "                                <td id=\"T_e205f5d4_9724_11ea_848b_b92ed883c184row2_col0\" class=\"data row2 col0\" >3</td>\n",
       "                        <td id=\"T_e205f5d4_9724_11ea_848b_b92ed883c184row2_col1\" class=\"data row2 col1\" >Fluid Dynamics</td>\n",
       "            </tr>\n",
       "            <tr>\n",
       "                                <td id=\"T_e205f5d4_9724_11ea_848b_b92ed883c184row3_col0\" class=\"data row3 col0\" >4</td>\n",
       "                        <td id=\"T_e205f5d4_9724_11ea_848b_b92ed883c184row3_col1\" class=\"data row3 col1\" >Properties of Matter</td>\n",
       "            </tr>\n",
       "            <tr>\n",
       "                                <td id=\"T_e205f5d4_9724_11ea_848b_b92ed883c184row4_col0\" class=\"data row4 col0\" >5</td>\n",
       "                        <td id=\"T_e205f5d4_9724_11ea_848b_b92ed883c184row4_col1\" class=\"data row4 col1\" >Heat</td>\n",
       "            </tr>\n",
       "            <tr>\n",
       "                                <td id=\"T_e205f5d4_9724_11ea_848b_b92ed883c184row5_col0\" class=\"data row5 col0\" >6</td>\n",
       "                        <td id=\"T_e205f5d4_9724_11ea_848b_b92ed883c184row5_col1\" class=\"data row5 col1\" >Vibrations and Waves</td>\n",
       "            </tr>\n",
       "            <tr>\n",
       "                                <td id=\"T_e205f5d4_9724_11ea_848b_b92ed883c184row6_col0\" class=\"data row6 col0\" >7</td>\n",
       "                        <td id=\"T_e205f5d4_9724_11ea_848b_b92ed883c184row6_col1\" class=\"data row6 col1\" >Electrostatics</td>\n",
       "            </tr>\n",
       "            <tr>\n",
       "                                <td id=\"T_e205f5d4_9724_11ea_848b_b92ed883c184row7_col0\" class=\"data row7 col0\" >8</td>\n",
       "                        <td id=\"T_e205f5d4_9724_11ea_848b_b92ed883c184row7_col1\" class=\"data row7 col1\" >Electromagnetism</td>\n",
       "            </tr>\n",
       "            <tr>\n",
       "                                <td id=\"T_e205f5d4_9724_11ea_848b_b92ed883c184row8_col0\" class=\"data row8 col0\" >9</td>\n",
       "                        <td id=\"T_e205f5d4_9724_11ea_848b_b92ed883c184row8_col1\" class=\"data row8 col1\" >Current Electricity</td>\n",
       "            </tr>\n",
       "            <tr>\n",
       "                                <td id=\"T_e205f5d4_9724_11ea_848b_b92ed883c184row9_col0\" class=\"data row9 col0\" >10</td>\n",
       "                        <td id=\"T_e205f5d4_9724_11ea_848b_b92ed883c184row9_col1\" class=\"data row9 col1\" >Electronics</td>\n",
       "            </tr>\n",
       "            <tr>\n",
       "                                <td id=\"T_e205f5d4_9724_11ea_848b_b92ed883c184row10_col0\" class=\"data row10 col0\" >11</td>\n",
       "                        <td id=\"T_e205f5d4_9724_11ea_848b_b92ed883c184row10_col1\" class=\"data row10 col1\" >Atomic Physics</td>\n",
       "            </tr>\n",
       "            <tr>\n",
       "                                <td id=\"T_e205f5d4_9724_11ea_848b_b92ed883c184row11_col0\" class=\"data row11 col0\" >12</td>\n",
       "                        <td id=\"T_e205f5d4_9724_11ea_848b_b92ed883c184row11_col1\" class=\"data row11 col1\" >Environmental Physics</td>\n",
       "            </tr>\n",
       "    </tbody></table>"
      ],
      "text/plain": [
       "<pandas.io.formats.style.Styler at 0x7f9d5d59db00>"
      ]
     },
     "execution_count": 30,
     "metadata": {},
     "output_type": "execute_result"
    }
   ],
   "source": [
    "topics_key.style.hide_index()"
   ]
  },
  {
   "cell_type": "code",
   "execution_count": 31,
   "metadata": {},
   "outputs": [
    {
     "name": "stdout",
     "output_type": "stream",
     "text": [
      "you've completed 0 today!\n",
      "\n",
      "Only 1 to go\n"
     ]
    }
   ],
   "source": [
    "print('you\\'ve completed '+str(finished_today)+' today!\\n\\nOnly '+str(remaining-finished_today)+' to go')"
   ]
  },
  {
   "cell_type": "code",
   "execution_count": null,
   "metadata": {},
   "outputs": [],
   "source": []
  },
  {
   "cell_type": "code",
   "execution_count": null,
   "metadata": {},
   "outputs": [],
   "source": []
  },
  {
   "cell_type": "code",
   "execution_count": 38,
   "metadata": {},
   "outputs": [],
   "source": [
    "next_version = cur_version_num+1\n",
    "if next_version<10:\n",
    "    next_version = '0'+str(next_version)\n",
    "else:\n",
    "    next_version = str(next_version)\n",
    "\n",
    "newdata = pd.DataFrame(data)\n",
    "headers = ['code','question','year','paper','topic1','subtopic1','topic2','subtopic2','topic3','subtopic3','graph?','word_prob?']\n",
    "\n",
    "newdata.columns = headers\n",
    "newdata.to_csv('bigtable_v'+next_version+'.csv',index=False)"
   ]
  },
  {
   "cell_type": "code",
   "execution_count": 39,
   "metadata": {},
   "outputs": [
    {
     "data": {
      "text/plain": [
       "'19'"
      ]
     },
     "execution_count": 39,
     "metadata": {},
     "output_type": "execute_result"
    }
   ],
   "source": [
    "next_version"
   ]
  },
  {
   "cell_type": "code",
   "execution_count": 22,
   "metadata": {},
   "outputs": [
    {
     "data": {
      "text/plain": [
       "9"
      ]
     },
     "execution_count": 22,
     "metadata": {},
     "output_type": "execute_result"
    }
   ],
   "source": [
    "cur_version_num"
   ]
  },
  {
   "cell_type": "code",
   "execution_count": 23,
   "metadata": {},
   "outputs": [
    {
     "data": {
      "text/plain": [
       "'09'"
      ]
     },
     "execution_count": 23,
     "metadata": {},
     "output_type": "execute_result"
    }
   ],
   "source": [
    "next_version"
   ]
  },
  {
   "cell_type": "code",
   "execution_count": null,
   "metadata": {},
   "outputs": [],
   "source": []
  },
  {
   "cell_type": "code",
   "execution_count": null,
   "metadata": {},
   "outputs": [],
   "source": []
  },
  {
   "cell_type": "code",
   "execution_count": null,
   "metadata": {},
   "outputs": [],
   "source": []
  },
  {
   "cell_type": "code",
   "execution_count": null,
   "metadata": {},
   "outputs": [],
   "source": []
  }
 ],
 "metadata": {
  "kernelspec": {
   "display_name": "Python 3",
   "language": "python",
   "name": "python3"
  },
  "language_info": {
   "codemirror_mode": {
    "name": "ipython",
    "version": 3
   },
   "file_extension": ".py",
   "mimetype": "text/x-python",
   "name": "python",
   "nbconvert_exporter": "python",
   "pygments_lexer": "ipython3",
   "version": "3.7.3"
  }
 },
 "nbformat": 4,
 "nbformat_minor": 2
}
