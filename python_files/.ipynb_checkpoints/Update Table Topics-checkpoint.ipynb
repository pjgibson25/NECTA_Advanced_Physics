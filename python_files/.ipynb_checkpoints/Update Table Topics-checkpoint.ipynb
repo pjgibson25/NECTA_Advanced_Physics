{
 "cells": [
  {
   "cell_type": "code",
   "execution_count": 27,
   "metadata": {},
   "outputs": [],
   "source": [
    "import numpy as np\n",
    "import pandas as pd\n",
    "import string\n",
    "import os \n",
    "from IPython.display import display, Markdown, Latex\n",
    "from IPython.display import clear_output\n",
    "import time\n",
    "\n",
    "current_dir = os.getcwd()\n"
   ]
  },
  {
   "cell_type": "code",
   "execution_count": 28,
   "metadata": {},
   "outputs": [
    {
     "name": "stdout",
     "output_type": "stream",
     "text": [
      "Current Version:  V05\n"
     ]
    }
   ],
   "source": [
    "os.chdir('../csv_files/')\n",
    "topics_key = pd.read_csv('topics_key.csv')\n",
    "tk = np.array(topics_key)\n",
    "\n",
    "files_in_dir = np.array(os.listdir())\n",
    "cond = [files_in_dir[i][:3]=='big' for i in np.arange(0,len(files_in_dir))]\n",
    "bigtables = files_in_dir[cond]\n",
    "cur_version = max(np.array([bigtables[i][10:12] for i in np.arange(0,len(bigtables))]).astype(int))\n",
    "cur_version_num = cur_version\n",
    "\n",
    "if cur_version<10:\n",
    "    cur_version = '0'+str(cur_version)\n",
    "else:\n",
    "    cur_version = str(cur_version)\n",
    "    \n",
    "data_pd = pd.read_csv('bigtable_v'+cur_version+'.csv')\n",
    "data = np.array(data_pd)\n",
    "remaining = sum(data[:,4] == '.')\n",
    "finished_today = 0\n",
    "\n",
    "print('Current Version:  V'+cur_version)"
   ]
  },
  {
   "cell_type": "code",
   "execution_count": null,
   "metadata": {},
   "outputs": [],
   "source": []
  },
  {
   "cell_type": "code",
   "execution_count": 29,
   "metadata": {},
   "outputs": [
    {
     "data": {
      "text/plain": [
       "'Write down the Poiscuille’s equation for a viscous fluid flowing through a tube defining all the symbols.\\nWhat assumptions are used to develop the equation above. '"
      ]
     },
     "execution_count": 29,
     "metadata": {},
     "output_type": "execute_result"
    }
   ],
   "source": [
    "data[i,1]"
   ]
  },
  {
   "cell_type": "code",
   "execution_count": 30,
   "metadata": {},
   "outputs": [
    {
     "data": {
      "text/plain": [
       "array(['0NB',\n",
       "       'Write down the Poiscuille’s equation for a viscous fluid flowing through a tube defining all the symbols.\\nWhat assumptions are used to develop the equation above. ',\n",
       "       '2013', '2', '.', '.', '.', '.', '.', '.', '0', 1, nan],\n",
       "      dtype=object)"
      ]
     },
     "execution_count": 30,
     "metadata": {},
     "output_type": "execute_result"
    }
   ],
   "source": [
    "data[i]"
   ]
  },
  {
   "cell_type": "code",
   "execution_count": 31,
   "metadata": {},
   "outputs": [
    {
     "data": {
      "text/plain": [
       "0"
      ]
     },
     "execution_count": 31,
     "metadata": {},
     "output_type": "execute_result"
    }
   ],
   "source": [
    "sum(data[:,1] == 'nan')"
   ]
  },
  {
   "cell_type": "code",
   "execution_count": 32,
   "metadata": {},
   "outputs": [
    {
     "data": {
      "text/plain": [
       "838"
      ]
     },
     "execution_count": 32,
     "metadata": {},
     "output_type": "execute_result"
    }
   ],
   "source": [
    "i"
   ]
  },
  {
   "cell_type": "code",
   "execution_count": null,
   "metadata": {},
   "outputs": [
    {
     "name": "stdout",
     "output_type": "stream",
     "text": [
      "2016 - Paper 1\n"
     ]
    },
    {
     "data": {
      "text/latex": [
       "The frequency, $ f$ of a vibrating string depends upon the force applied, $ F$ , the length, $ l$ , of the string and the mass per unit length,$ \\mu $ . Using dimension show how $ f$ is related to $ F$ , $ l$ and $ \\mu $ ."
      ],
      "text/plain": [
       "<IPython.core.display.Latex object>"
      ]
     },
     "metadata": {},
     "output_type": "display_data"
    }
   ],
   "source": [
    "for i in np.arange(0,len(data)):\n",
    "    if data[i,4] == '.':\n",
    "        print(str(data[i,2])+' - Paper '+str(data[i,3]))\n",
    "        display(Latex(data[i,1]))\n",
    "        time.sleep(0.5)\n",
    "        usr_input = input('Topic Number:  ')\n",
    "        clear_output(wait=True)\n",
    "        for j in np.arange(0,len(tk)):\n",
    "            if int(usr_input) == tk[j,0]:\n",
    "                data[i,4] = tk[j,1]\n",
    "                finished_today += 1\n",
    "                "
   ]
  },
  {
   "cell_type": "code",
   "execution_count": 24,
   "metadata": {},
   "outputs": [
    {
     "data": {
      "text/html": [
       "<style  type=\"text/css\" >\n",
       "</style><table id=\"T_8ffe3450_9615_11ea_ab2c_ebfe27882767\" ><thead>    <tr>        <th class=\"col_heading level0 col0\" >Topic_number</th>        <th class=\"col_heading level0 col1\" >Topic_name</th>    </tr></thead><tbody>\n",
       "                <tr>\n",
       "                                <td id=\"T_8ffe3450_9615_11ea_ab2c_ebfe27882767row0_col0\" class=\"data row0 col0\" >1</td>\n",
       "                        <td id=\"T_8ffe3450_9615_11ea_ab2c_ebfe27882767row0_col1\" class=\"data row0 col1\" >Measurement</td>\n",
       "            </tr>\n",
       "            <tr>\n",
       "                                <td id=\"T_8ffe3450_9615_11ea_ab2c_ebfe27882767row1_col0\" class=\"data row1 col0\" >2</td>\n",
       "                        <td id=\"T_8ffe3450_9615_11ea_ab2c_ebfe27882767row1_col1\" class=\"data row1 col1\" >Mechanics</td>\n",
       "            </tr>\n",
       "            <tr>\n",
       "                                <td id=\"T_8ffe3450_9615_11ea_ab2c_ebfe27882767row2_col0\" class=\"data row2 col0\" >3</td>\n",
       "                        <td id=\"T_8ffe3450_9615_11ea_ab2c_ebfe27882767row2_col1\" class=\"data row2 col1\" >Fluid Dynamics</td>\n",
       "            </tr>\n",
       "            <tr>\n",
       "                                <td id=\"T_8ffe3450_9615_11ea_ab2c_ebfe27882767row3_col0\" class=\"data row3 col0\" >4</td>\n",
       "                        <td id=\"T_8ffe3450_9615_11ea_ab2c_ebfe27882767row3_col1\" class=\"data row3 col1\" >Properties of Matter</td>\n",
       "            </tr>\n",
       "            <tr>\n",
       "                                <td id=\"T_8ffe3450_9615_11ea_ab2c_ebfe27882767row4_col0\" class=\"data row4 col0\" >5</td>\n",
       "                        <td id=\"T_8ffe3450_9615_11ea_ab2c_ebfe27882767row4_col1\" class=\"data row4 col1\" >Heat</td>\n",
       "            </tr>\n",
       "            <tr>\n",
       "                                <td id=\"T_8ffe3450_9615_11ea_ab2c_ebfe27882767row5_col0\" class=\"data row5 col0\" >6</td>\n",
       "                        <td id=\"T_8ffe3450_9615_11ea_ab2c_ebfe27882767row5_col1\" class=\"data row5 col1\" >Vibrations and Waves</td>\n",
       "            </tr>\n",
       "            <tr>\n",
       "                                <td id=\"T_8ffe3450_9615_11ea_ab2c_ebfe27882767row6_col0\" class=\"data row6 col0\" >7</td>\n",
       "                        <td id=\"T_8ffe3450_9615_11ea_ab2c_ebfe27882767row6_col1\" class=\"data row6 col1\" >Electrostatics</td>\n",
       "            </tr>\n",
       "            <tr>\n",
       "                                <td id=\"T_8ffe3450_9615_11ea_ab2c_ebfe27882767row7_col0\" class=\"data row7 col0\" >8</td>\n",
       "                        <td id=\"T_8ffe3450_9615_11ea_ab2c_ebfe27882767row7_col1\" class=\"data row7 col1\" >Electromagnetism</td>\n",
       "            </tr>\n",
       "            <tr>\n",
       "                                <td id=\"T_8ffe3450_9615_11ea_ab2c_ebfe27882767row8_col0\" class=\"data row8 col0\" >9</td>\n",
       "                        <td id=\"T_8ffe3450_9615_11ea_ab2c_ebfe27882767row8_col1\" class=\"data row8 col1\" >Current Electricity</td>\n",
       "            </tr>\n",
       "            <tr>\n",
       "                                <td id=\"T_8ffe3450_9615_11ea_ab2c_ebfe27882767row9_col0\" class=\"data row9 col0\" >10</td>\n",
       "                        <td id=\"T_8ffe3450_9615_11ea_ab2c_ebfe27882767row9_col1\" class=\"data row9 col1\" >Electronics</td>\n",
       "            </tr>\n",
       "            <tr>\n",
       "                                <td id=\"T_8ffe3450_9615_11ea_ab2c_ebfe27882767row10_col0\" class=\"data row10 col0\" >11</td>\n",
       "                        <td id=\"T_8ffe3450_9615_11ea_ab2c_ebfe27882767row10_col1\" class=\"data row10 col1\" >Atomic Physics</td>\n",
       "            </tr>\n",
       "            <tr>\n",
       "                                <td id=\"T_8ffe3450_9615_11ea_ab2c_ebfe27882767row11_col0\" class=\"data row11 col0\" >12</td>\n",
       "                        <td id=\"T_8ffe3450_9615_11ea_ab2c_ebfe27882767row11_col1\" class=\"data row11 col1\" >Environmental Physics</td>\n",
       "            </tr>\n",
       "    </tbody></table>"
      ],
      "text/plain": [
       "<pandas.io.formats.style.Styler at 0x7fbf18cf1828>"
      ]
     },
     "execution_count": 24,
     "metadata": {},
     "output_type": "execute_result"
    }
   ],
   "source": [
    "topics_key.style.hide_index()"
   ]
  },
  {
   "cell_type": "code",
   "execution_count": 25,
   "metadata": {},
   "outputs": [
    {
     "name": "stdout",
     "output_type": "stream",
     "text": [
      "you've completed 11 today!\n",
      "\n",
      "Only 158 to go\n"
     ]
    }
   ],
   "source": [
    "print('you\\'ve completed '+str(finished_today)+' today!\\n\\nOnly '+str(remaining-finished_today)+' to go')"
   ]
  },
  {
   "cell_type": "code",
   "execution_count": null,
   "metadata": {},
   "outputs": [],
   "source": []
  },
  {
   "cell_type": "code",
   "execution_count": null,
   "metadata": {},
   "outputs": [],
   "source": []
  },
  {
   "cell_type": "code",
   "execution_count": 26,
   "metadata": {},
   "outputs": [],
   "source": [
    "next_version = cur_version_num+1\n",
    "if next_version<10:\n",
    "    next_version = '0'+str(next_version)\n",
    "else:\n",
    "    next_version = str(cur_version)\n",
    "\n",
    "newdata = pd.DataFrame(data)\n",
    "headers = ['code','question','year','paper','topic1','subtopic1','topic2','subtopic2','topic3','subtopic3','graph?','word_prob?']\n",
    "\n",
    "newdata.columns = headers\n",
    "newdata.to_csv('bigtable_v'+next_version+'.csv',index=False)"
   ]
  },
  {
   "cell_type": "code",
   "execution_count": null,
   "metadata": {},
   "outputs": [],
   "source": []
  },
  {
   "cell_type": "code",
   "execution_count": null,
   "metadata": {},
   "outputs": [],
   "source": []
  },
  {
   "cell_type": "code",
   "execution_count": null,
   "metadata": {},
   "outputs": [],
   "source": []
  },
  {
   "cell_type": "code",
   "execution_count": null,
   "metadata": {},
   "outputs": [],
   "source": []
  },
  {
   "cell_type": "code",
   "execution_count": null,
   "metadata": {},
   "outputs": [],
   "source": []
  },
  {
   "cell_type": "code",
   "execution_count": null,
   "metadata": {},
   "outputs": [],
   "source": []
  },
  {
   "cell_type": "code",
   "execution_count": null,
   "metadata": {},
   "outputs": [],
   "source": []
  }
 ],
 "metadata": {
  "kernelspec": {
   "display_name": "Python 3",
   "language": "python",
   "name": "python3"
  },
  "language_info": {
   "codemirror_mode": {
    "name": "ipython",
    "version": 3
   },
   "file_extension": ".py",
   "mimetype": "text/x-python",
   "name": "python",
   "nbconvert_exporter": "python",
   "pygments_lexer": "ipython3",
   "version": "3.7.3"
  }
 },
 "nbformat": 4,
 "nbformat_minor": 2
}
