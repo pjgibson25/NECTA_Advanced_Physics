{
 "cells": [
  {
   "cell_type": "code",
   "execution_count": 6,
   "metadata": {},
   "outputs": [],
   "source": [
    "import numpy as np\n",
    "import pandas as pd\n",
    "import string\n",
    "import os \n",
    "from IPython.display import display, Markdown, Latex\n",
    "from IPython.display import clear_output\n",
    "import time\n",
    "\n",
    "current_dir = os.getcwd()\n"
   ]
  },
  {
   "cell_type": "code",
   "execution_count": 7,
   "metadata": {},
   "outputs": [
    {
     "name": "stdout",
     "output_type": "stream",
     "text": [
      "Current Version:  V18\n"
     ]
    }
   ],
   "source": [
    "os.chdir('../csv_files/')\n",
    "topics_key = pd.read_csv('topics_key.csv')\n",
    "tk = np.array(topics_key)\n",
    "\n",
    "files_in_dir = np.array(os.listdir())\n",
    "cond = [files_in_dir[i][:3]=='big' for i in np.arange(0,len(files_in_dir))]\n",
    "bigtables = files_in_dir[cond]\n",
    "cur_version = max(np.array([bigtables[i][10:12] for i in np.arange(0,len(bigtables))]).astype(int))\n",
    "cur_version_num = cur_version\n",
    "\n",
    "if cur_version<10:\n",
    "    cur_version = '0'+str(cur_version)\n",
    "else:\n",
    "    cur_version = str(cur_version)\n",
    "    \n",
    "data_pd = pd.read_csv('bigtable_v'+cur_version+'.csv')\n",
    "data = np.array(data_pd)\n",
    "remaining = sum(data[:,4] == '.')\n",
    "finished_today = 0\n",
    "\n",
    "print('Current Version:  V'+cur_version)"
   ]
  },
  {
   "cell_type": "code",
   "execution_count": 8,
   "metadata": {},
   "outputs": [
    {
     "data": {
      "text/html": [
       "<div>\n",
       "<style scoped>\n",
       "    .dataframe tbody tr th:only-of-type {\n",
       "        vertical-align: middle;\n",
       "    }\n",
       "\n",
       "    .dataframe tbody tr th {\n",
       "        vertical-align: top;\n",
       "    }\n",
       "\n",
       "    .dataframe thead th {\n",
       "        text-align: right;\n",
       "    }\n",
       "</style>\n",
       "<table border=\"1\" class=\"dataframe\">\n",
       "  <thead>\n",
       "    <tr style=\"text-align: right;\">\n",
       "      <th></th>\n",
       "      <th>Topic_number</th>\n",
       "      <th>Topic_name</th>\n",
       "    </tr>\n",
       "  </thead>\n",
       "  <tbody>\n",
       "    <tr>\n",
       "      <th>0</th>\n",
       "      <td>1</td>\n",
       "      <td>Measurement</td>\n",
       "    </tr>\n",
       "    <tr>\n",
       "      <th>1</th>\n",
       "      <td>2</td>\n",
       "      <td>Mechanics</td>\n",
       "    </tr>\n",
       "    <tr>\n",
       "      <th>2</th>\n",
       "      <td>3</td>\n",
       "      <td>Fluid Dynamics</td>\n",
       "    </tr>\n",
       "    <tr>\n",
       "      <th>3</th>\n",
       "      <td>4</td>\n",
       "      <td>Properties of Matter</td>\n",
       "    </tr>\n",
       "    <tr>\n",
       "      <th>4</th>\n",
       "      <td>5</td>\n",
       "      <td>Heat</td>\n",
       "    </tr>\n",
       "    <tr>\n",
       "      <th>5</th>\n",
       "      <td>6</td>\n",
       "      <td>Vibrations and Waves</td>\n",
       "    </tr>\n",
       "    <tr>\n",
       "      <th>6</th>\n",
       "      <td>7</td>\n",
       "      <td>Electrostatics</td>\n",
       "    </tr>\n",
       "    <tr>\n",
       "      <th>7</th>\n",
       "      <td>8</td>\n",
       "      <td>Electromagnetism</td>\n",
       "    </tr>\n",
       "    <tr>\n",
       "      <th>8</th>\n",
       "      <td>9</td>\n",
       "      <td>Current Electricity</td>\n",
       "    </tr>\n",
       "    <tr>\n",
       "      <th>9</th>\n",
       "      <td>10</td>\n",
       "      <td>Electronics</td>\n",
       "    </tr>\n",
       "    <tr>\n",
       "      <th>10</th>\n",
       "      <td>11</td>\n",
       "      <td>Atomic Physics</td>\n",
       "    </tr>\n",
       "    <tr>\n",
       "      <th>11</th>\n",
       "      <td>12</td>\n",
       "      <td>Environmental Physics</td>\n",
       "    </tr>\n",
       "  </tbody>\n",
       "</table>\n",
       "</div>"
      ],
      "text/plain": [
       "    Topic_number             Topic_name\n",
       "0              1            Measurement\n",
       "1              2              Mechanics\n",
       "2              3         Fluid Dynamics\n",
       "3              4   Properties of Matter\n",
       "4              5                   Heat\n",
       "5              6   Vibrations and Waves\n",
       "6              7         Electrostatics\n",
       "7              8       Electromagnetism\n",
       "8              9    Current Electricity\n",
       "9             10            Electronics\n",
       "10            11         Atomic Physics\n",
       "11            12  Environmental Physics"
      ]
     },
     "execution_count": 8,
     "metadata": {},
     "output_type": "execute_result"
    }
   ],
   "source": [
    "topics_key"
   ]
  },
  {
   "cell_type": "code",
   "execution_count": null,
   "metadata": {},
   "outputs": [],
   "source": []
  },
  {
   "cell_type": "code",
   "execution_count": null,
   "metadata": {},
   "outputs": [],
   "source": []
  },
  {
   "cell_type": "code",
   "execution_count": null,
   "metadata": {},
   "outputs": [],
   "source": []
  },
  {
   "cell_type": "code",
   "execution_count": null,
   "metadata": {},
   "outputs": [],
   "source": []
  },
  {
   "cell_type": "code",
   "execution_count": 9,
   "metadata": {},
   "outputs": [
    {
     "name": "stdout",
     "output_type": "stream",
     "text": [
      "2019 - Paper 2\n"
     ]
    },
    {
     "data": {
      "text/latex": [
       "A lens was placed with a convex surface of radius of curvature $ 50.0$ cm in contact with the plane surface such that Newton’s rings were observed when the lens was illuminated with monochromatic light. If the radius of the $ 15$ th ring was $ 2.13$ mm determine the wavelength. "
      ],
      "text/plain": [
       "<IPython.core.display.Latex object>"
      ]
     },
     "metadata": {},
     "output_type": "display_data"
    },
    {
     "name": "stdout",
     "output_type": "stream",
     "text": [
      "Topic Number:  6\n"
     ]
    }
   ],
   "source": [
    "for i in np.arange(0,len(data)):\n",
    "    if data[i,4] == '.':\n",
    "        print(str(data[i,2])+' - Paper '+str(data[i,3]))\n",
    "        display(Latex(data[i,1]))\n",
    "        time.sleep(0.5)\n",
    "        usr_input = input('Topic Number:  ')\n",
    "        clear_output(wait=True)\n",
    "        for j in np.arange(0,len(tk)):\n",
    "            if int(usr_input) == tk[j,0]:\n",
    "                data[i,4] = tk[j,1]\n",
    "                finished_today += 1\n",
    "                "
   ]
  },
  {
   "cell_type": "code",
   "execution_count": 24,
   "metadata": {},
   "outputs": [
    {
     "data": {
      "text/html": [
       "<style  type=\"text/css\" >\n",
       "</style><table id=\"T_8ffe3450_9615_11ea_ab2c_ebfe27882767\" ><thead>    <tr>        <th class=\"col_heading level0 col0\" >Topic_number</th>        <th class=\"col_heading level0 col1\" >Topic_name</th>    </tr></thead><tbody>\n",
       "                <tr>\n",
       "                                <td id=\"T_8ffe3450_9615_11ea_ab2c_ebfe27882767row0_col0\" class=\"data row0 col0\" >1</td>\n",
       "                        <td id=\"T_8ffe3450_9615_11ea_ab2c_ebfe27882767row0_col1\" class=\"data row0 col1\" >Measurement</td>\n",
       "            </tr>\n",
       "            <tr>\n",
       "                                <td id=\"T_8ffe3450_9615_11ea_ab2c_ebfe27882767row1_col0\" class=\"data row1 col0\" >2</td>\n",
       "                        <td id=\"T_8ffe3450_9615_11ea_ab2c_ebfe27882767row1_col1\" class=\"data row1 col1\" >Mechanics</td>\n",
       "            </tr>\n",
       "            <tr>\n",
       "                                <td id=\"T_8ffe3450_9615_11ea_ab2c_ebfe27882767row2_col0\" class=\"data row2 col0\" >3</td>\n",
       "                        <td id=\"T_8ffe3450_9615_11ea_ab2c_ebfe27882767row2_col1\" class=\"data row2 col1\" >Fluid Dynamics</td>\n",
       "            </tr>\n",
       "            <tr>\n",
       "                                <td id=\"T_8ffe3450_9615_11ea_ab2c_ebfe27882767row3_col0\" class=\"data row3 col0\" >4</td>\n",
       "                        <td id=\"T_8ffe3450_9615_11ea_ab2c_ebfe27882767row3_col1\" class=\"data row3 col1\" >Properties of Matter</td>\n",
       "            </tr>\n",
       "            <tr>\n",
       "                                <td id=\"T_8ffe3450_9615_11ea_ab2c_ebfe27882767row4_col0\" class=\"data row4 col0\" >5</td>\n",
       "                        <td id=\"T_8ffe3450_9615_11ea_ab2c_ebfe27882767row4_col1\" class=\"data row4 col1\" >Heat</td>\n",
       "            </tr>\n",
       "            <tr>\n",
       "                                <td id=\"T_8ffe3450_9615_11ea_ab2c_ebfe27882767row5_col0\" class=\"data row5 col0\" >6</td>\n",
       "                        <td id=\"T_8ffe3450_9615_11ea_ab2c_ebfe27882767row5_col1\" class=\"data row5 col1\" >Vibrations and Waves</td>\n",
       "            </tr>\n",
       "            <tr>\n",
       "                                <td id=\"T_8ffe3450_9615_11ea_ab2c_ebfe27882767row6_col0\" class=\"data row6 col0\" >7</td>\n",
       "                        <td id=\"T_8ffe3450_9615_11ea_ab2c_ebfe27882767row6_col1\" class=\"data row6 col1\" >Electrostatics</td>\n",
       "            </tr>\n",
       "            <tr>\n",
       "                                <td id=\"T_8ffe3450_9615_11ea_ab2c_ebfe27882767row7_col0\" class=\"data row7 col0\" >8</td>\n",
       "                        <td id=\"T_8ffe3450_9615_11ea_ab2c_ebfe27882767row7_col1\" class=\"data row7 col1\" >Electromagnetism</td>\n",
       "            </tr>\n",
       "            <tr>\n",
       "                                <td id=\"T_8ffe3450_9615_11ea_ab2c_ebfe27882767row8_col0\" class=\"data row8 col0\" >9</td>\n",
       "                        <td id=\"T_8ffe3450_9615_11ea_ab2c_ebfe27882767row8_col1\" class=\"data row8 col1\" >Current Electricity</td>\n",
       "            </tr>\n",
       "            <tr>\n",
       "                                <td id=\"T_8ffe3450_9615_11ea_ab2c_ebfe27882767row9_col0\" class=\"data row9 col0\" >10</td>\n",
       "                        <td id=\"T_8ffe3450_9615_11ea_ab2c_ebfe27882767row9_col1\" class=\"data row9 col1\" >Electronics</td>\n",
       "            </tr>\n",
       "            <tr>\n",
       "                                <td id=\"T_8ffe3450_9615_11ea_ab2c_ebfe27882767row10_col0\" class=\"data row10 col0\" >11</td>\n",
       "                        <td id=\"T_8ffe3450_9615_11ea_ab2c_ebfe27882767row10_col1\" class=\"data row10 col1\" >Atomic Physics</td>\n",
       "            </tr>\n",
       "            <tr>\n",
       "                                <td id=\"T_8ffe3450_9615_11ea_ab2c_ebfe27882767row11_col0\" class=\"data row11 col0\" >12</td>\n",
       "                        <td id=\"T_8ffe3450_9615_11ea_ab2c_ebfe27882767row11_col1\" class=\"data row11 col1\" >Environmental Physics</td>\n",
       "            </tr>\n",
       "    </tbody></table>"
      ],
      "text/plain": [
       "<pandas.io.formats.style.Styler at 0x7fbf18cf1828>"
      ]
     },
     "execution_count": 24,
     "metadata": {},
     "output_type": "execute_result"
    }
   ],
   "source": [
    "topics_key.style.hide_index()"
   ]
  },
  {
   "cell_type": "code",
   "execution_count": 5,
   "metadata": {},
   "outputs": [
    {
     "name": "stdout",
     "output_type": "stream",
     "text": [
      "you've completed 47 today!\n",
      "\n",
      "Only 0 to go\n"
     ]
    }
   ],
   "source": [
    "print('you\\'ve completed '+str(finished_today)+' today!\\n\\nOnly '+str(remaining-finished_today)+' to go')"
   ]
  },
  {
   "cell_type": "code",
   "execution_count": 39,
   "metadata": {},
   "outputs": [
    {
     "data": {
      "text/plain": [
       "array([nan, nan, nan, ..., nan, nan, nan], dtype=object)"
      ]
     },
     "execution_count": 39,
     "metadata": {},
     "output_type": "execute_result"
    }
   ],
   "source": [
    "data[]"
   ]
  },
  {
   "cell_type": "code",
   "execution_count": 42,
   "metadata": {},
   "outputs": [],
   "source": [
    "data = data[:,:-1]\n"
   ]
  },
  {
   "cell_type": "code",
   "execution_count": 10,
   "metadata": {},
   "outputs": [],
   "source": [
    "next_version = cur_version_num+1\n",
    "if next_version<10:\n",
    "    next_version = '0'+str(next_version)\n",
    "else:\n",
    "    next_version = str(cur_version)\n",
    "\n",
    "newdata = pd.DataFrame(data)\n",
    "headers = ['code','question','year','paper','topic1','subtopic1','topic2','subtopic2','topic3','subtopic3','graph?','word_prob?']\n",
    "\n",
    "newdata.columns = headers\n",
    "newdata.to_csv('bigtable_v'+next_version+'.csv',index=False)"
   ]
  },
  {
   "cell_type": "code",
   "execution_count": 11,
   "metadata": {},
   "outputs": [
    {
     "data": {
      "text/plain": [
       "'18'"
      ]
     },
     "execution_count": 11,
     "metadata": {},
     "output_type": "execute_result"
    }
   ],
   "source": [
    "next_version"
   ]
  },
  {
   "cell_type": "code",
   "execution_count": null,
   "metadata": {},
   "outputs": [],
   "source": []
  },
  {
   "cell_type": "code",
   "execution_count": null,
   "metadata": {},
   "outputs": [],
   "source": []
  },
  {
   "cell_type": "code",
   "execution_count": null,
   "metadata": {},
   "outputs": [],
   "source": []
  },
  {
   "cell_type": "code",
   "execution_count": null,
   "metadata": {},
   "outputs": [],
   "source": []
  },
  {
   "cell_type": "code",
   "execution_count": null,
   "metadata": {},
   "outputs": [],
   "source": []
  },
  {
   "cell_type": "code",
   "execution_count": null,
   "metadata": {},
   "outputs": [],
   "source": []
  }
 ],
 "metadata": {
  "kernelspec": {
   "display_name": "Python 3",
   "language": "python",
   "name": "python3"
  },
  "language_info": {
   "codemirror_mode": {
    "name": "ipython",
    "version": 3
   },
   "file_extension": ".py",
   "mimetype": "text/x-python",
   "name": "python",
   "nbconvert_exporter": "python",
   "pygments_lexer": "ipython3",
   "version": "3.7.3"
  }
 },
 "nbformat": 4,
 "nbformat_minor": 2
}
