{
 "cells": [
  {
   "cell_type": "code",
   "execution_count": 32,
   "metadata": {},
   "outputs": [],
   "source": [
    "import numpy as np\n",
    "import pandas as pd\n",
    "import string\n",
    "import os \n",
    "\n",
    "working_dir = os.getcwd()"
   ]
  },
  {
   "cell_type": "code",
   "execution_count": 33,
   "metadata": {},
   "outputs": [
    {
     "data": {
      "text/plain": [
       "'0123456789ABCDEFGHIJKLMNOPQRSTUVWXYZ'"
      ]
     },
     "execution_count": 33,
     "metadata": {},
     "output_type": "execute_result"
    }
   ],
   "source": [
    "stuffz = string.digits+string.ascii_uppercase\n",
    "stuffz "
   ]
  },
  {
   "cell_type": "code",
   "execution_count": 20,
   "metadata": {},
   "outputs": [],
   "source": [
    "codes = []\n",
    "for i in np.arange(0,len(stuffz)):\n",
    "    for j in np.arange(0,len(stuffz)):\n",
    "        for k in np.arange(0,len(stuffz)):\n",
    "            codes.append((stuffz[i])+(stuffz[j])+(stuffz[k]))\n",
    "            "
   ]
  },
  {
   "cell_type": "code",
   "execution_count": 34,
   "metadata": {},
   "outputs": [],
   "source": [
    "\n",
    "os.chdir('../finished_texts/')"
   ]
  },
  {
   "cell_type": "code",
   "execution_count": 36,
   "metadata": {},
   "outputs": [
    {
     "data": {
      "text/plain": [
       "['2014_p1.txt',\n",
       " '1999_p1.txt',\n",
       " '2019_p1.txt',\n",
       " '2017_p1.txt',\n",
       " '2013_p1.txt',\n",
       " '2007_p1.txt',\n",
       " '1999_p2.txt',\n",
       " '2010_p1.txt',\n",
       " '2015_p2.txt',\n",
       " '2007_p2.txt',\n",
       " '2015_p1.txt',\n",
       " '2009_p2.txt',\n",
       " '1998_p2b.txt',\n",
       " '2000_p1.txt',\n",
       " '2019_p2.txt',\n",
       " '2018_p1.txt',\n",
       " '2016_p1.txt',\n",
       " '2000_p2.txt']"
      ]
     },
     "execution_count": 36,
     "metadata": {},
     "output_type": "execute_result"
    }
   ],
   "source": [
    "os.listdir()"
   ]
  },
  {
   "cell_type": "code",
   "execution_count": null,
   "metadata": {},
   "outputs": [],
   "source": []
  }
 ],
 "metadata": {
  "kernelspec": {
   "display_name": "Python 3",
   "language": "python",
   "name": "python3"
  },
  "language_info": {
   "codemirror_mode": {
    "name": "ipython",
    "version": 3
   },
   "file_extension": ".py",
   "mimetype": "text/x-python",
   "name": "python",
   "nbconvert_exporter": "python",
   "pygments_lexer": "ipython3",
   "version": "3.7.3"
  }
 },
 "nbformat": 4,
 "nbformat_minor": 2
}
