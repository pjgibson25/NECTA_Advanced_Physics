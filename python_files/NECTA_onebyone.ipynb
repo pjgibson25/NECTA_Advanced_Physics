{
 "cells": [
  {
   "cell_type": "code",
   "execution_count": 1,
   "metadata": {},
   "outputs": [],
   "source": [
    "# Import libraries\n",
    "\n",
    "import os\n",
    "import numpy as np\n",
    "import pandas as pd\n",
    "\n",
    "#################################################################\n",
    "\n",
    "# Really don't want to accidently delete this.  Save up here\n",
    "\n",
    "empty=[]\n",
    "#################################################################\n",
    "\n",
    "topics = np.array(['Measurement',\n",
    "                  'Mechanics',\n",
    "                  'Fluid Dynamics',\n",
    "                  'Properties of Matter',\n",
    "                  'Heat',\n",
    "                  'Vibrations and Waves',\n",
    "                  'Electrostatics',\n",
    "                  'Electromagnetism',\n",
    "                  'Current Electricity',\n",
    "                  'Electronics',\n",
    "                  'Atomic Physics',\n",
    "                  'Environmental Physics'])\n",
    "\n",
    "#################################################################\n",
    "\n",
    "# Create tags from everything\n",
    "codee = open('subtopics_and_codes.txt','r')\n",
    "codey = codee.read()\n",
    "codee.close()\n",
    "splitup = codey.split('\\n')[:-1]\n",
    "subtopics = []\n",
    "subtopic_que = []\n",
    "for i in np.arange(0,len(splitup)):\n",
    "    if ((i+2) % 2 == 0):\n",
    "        subtopics.append(splitup[i])\n",
    "    else:\n",
    "        subtopic_que.append(splitup[i])\n",
    "        \n",
    "subtopic_que = np.array(subtopic_que)\n",
    "subtopics = np.array(subtopics)\n",
    "\n",
    "pair = np.column_stack((subtopic_que,subtopics))\n",
    "\n",
    "#################################################################"
   ]
  },
  {
   "cell_type": "markdown",
   "metadata": {},
   "source": [
    "# CREATE NECTA DATABASE\n",
    "\n",
    "###  This file will document questions, topics, subtopics, and the year of NECTA appearance.  \n",
    "\n",
    "I am creating this file in order to create a accessable and versatile way of seeing all of the NECTA material.  Hopefully, teachers will be able to use this to formulate lessons around preparing students for their final national exams by providing good example problems\n",
    "\n",
    "\n",
    "If possible, I also hope to make a method of generating random tests using this database.\n",
    "\n",
    "Here goes!!!"
   ]
  },
  {
   "cell_type": "code",
   "execution_count": null,
   "metadata": {},
   "outputs": [],
   "source": [
    "##############\n",
    "# CHANGE ME #\n",
    "##############\n",
    "\n",
    "exam_file = '../finished_texts/1999.txt'"
   ]
  },
  {
   "cell_type": "code",
   "execution_count": 73,
   "metadata": {},
   "outputs": [],
   "source": [
    "# Read file\n",
    "file = open(exam_file,'r')\n",
    "alltxt = file.read()\n",
    "file.close()\n",
    "\n",
    "#################################################################\n",
    "\n",
    "# Pick out questions\n",
    "questions = alltxt.split('\\n\\n')[1:]\n",
    "\n",
    "#################################################################\n",
    "\n",
    "#  Create array of the NECTA year to stack with questions\n",
    "\n",
    "cur_year = alltxt.split('\\n\\n')[0][-4:]\n",
    "year = np.chararray(len(questions),itemsize=10)\n",
    "year[:] = cur_year\n",
    "year = np.array(year.decode('utf-8'))\n",
    "\n",
    "#################################################################\n",
    "\n",
    "#  List topic/subtopic ID manually by keycode\n",
    "\n",
    "usr_input='1'\n",
    "count = 0\n",
    "codes=[]\n",
    "while (usr_input != ' '):\n",
    "    usr_input = input(str(questions[count]))\n",
    "    count+=1\n",
    "    empty.append(usr_input)\n",
    "\n",
    "full_list = empty[:-1]\n"
   ]
  },
  {
   "cell_type": "code",
   "execution_count": null,
   "metadata": {},
   "outputs": [],
   "source": [
    "# Correct any mislabeled questions\n",
    "\n",
    "for j in np.arange(0,3):\n",
    "    for i in np.arange(0,len(full_list)):\n",
    "        if full_list[i] not in subtopic_que:\n",
    "            print('you entered:     '+full_list[i])\n",
    "            new_entry = input(str(questions[i]))\n",
    "            print('\\n-----------------------------\\n')\n",
    "            full_list[i] = new_entry\n",
    "        \n",
    "#################################################################\n",
    "      \n",
    "# Read keycode to determine topic\n",
    "        \n",
    "topicz = []\n",
    "for i in np.arange(0,len(full_list)):\n",
    "    shortcut = full_list[i][:2]\n",
    "    index = int(shortcut)-1\n",
    "    topic = topics[index]\n",
    "    topicz.append(topic)\n",
    "    \n",
    "#################################################################\n",
    "   \n",
    "# Read keycode to determine subtopic\n",
    "    \n",
    "sub = []\n",
    "for i in np.arange(0,len(full_list)):\n",
    "    subz = pair[:,1][pair[:,0] == full_list[i]][0]\n",
    "    sub.append(subz)"
   ]
  },
  {
   "cell_type": "code",
   "execution_count": 131,
   "metadata": {},
   "outputs": [],
   "source": [
    "# FINAL STEP:  put everything into neat numpy array\n",
    "col1 = np.array(questions[:-1])\n",
    "col2 = np.array(year[:-1])\n",
    "col3 = np.array(topicz)\n",
    "col4 = np.array(sub)\n",
    "all_info = np.column_stack((col1,col2,col3,col4))\n",
    "\n",
    "#################################################################\n",
    "\n",
    "# Convert to pandas array, and then save as csv file\n",
    "label = ['Question','Year','Topic','Subtopic']\n",
    "NECTA_probs = pd.DataFrame(all_info, columns = label)\n",
    "NECTA_probs.to_csv('../csv_files/'+str(cur_year)+'.csv')"
   ]
  },
  {
   "cell_type": "code",
   "execution_count": null,
   "metadata": {},
   "outputs": [],
   "source": []
  },
  {
   "cell_type": "code",
   "execution_count": null,
   "metadata": {},
   "outputs": [],
   "source": []
  },
  {
   "cell_type": "code",
   "execution_count": 2,
   "metadata": {},
   "outputs": [
    {
     "data": {
      "text/plain": [
       "array([['01quan', 'Physical Quantities'],\n",
       "       ['01err', 'Errors'],\n",
       "       ['02new', 'Newton’s Laws of Motion'],\n",
       "       ['02proj', 'Projectile Motion'],\n",
       "       ['02circ', 'Uniform Circular Motion'],\n",
       "       ['02shm', 'Simple Harmonic Motion'],\n",
       "       ['02grav', 'Gravitation'],\n",
       "       ['02rot', 'Rotation of Rigid Bodies'],\n",
       "       ['03flow', 'Streamline Flow and Continuity'],\n",
       "       ['03bern', \"Bernoulli's Principle\"],\n",
       "       ['03visc', 'Viscosity and Turbulent Flow'],\n",
       "       ['04st', 'Surface Tension'],\n",
       "       ['04el', 'Elasticity'],\n",
       "       ['04ktog', 'Kinetic Theory of Gases'],\n",
       "       ['05therm', 'Thermometers'],\n",
       "       ['05cond', 'Thermal Conduction'],\n",
       "       ['05conv', 'Thermal Convection'],\n",
       "       ['05rad', 'Thermal Radiation'],\n",
       "       ['05first', 'First Law of Thermodynamics'],\n",
       "       ['06vib', 'Mechanical Vibrations'],\n",
       "       ['06wav', 'Wave Motion'],\n",
       "       ['06sound', 'Sound'],\n",
       "       ['06em', 'Electromagnetic Waves (em-waves)'],\n",
       "       ['06opt',\n",
       "        'Physical Optics (interferance/diffraction/polarization)'],\n",
       "       ['06dop', 'Doppler Effect'],\n",
       "       ['07elf', 'The Electric Field'],\n",
       "       ['07pot', 'Electric Potential'],\n",
       "       ['07ca', 'Capacitance'],\n",
       "       ['08field', 'Magnetic Fields'],\n",
       "       ['08prop', 'Magnetic Properties of Materials'],\n",
       "       ['08force', 'Magnetic Forces'],\n",
       "       ['08ind', 'Electromagnetic Induction'],\n",
       "       ['08earth', 'Magnetic Field of the Earth'],\n",
       "       ['09metal', 'Electric Conduction in Metals'],\n",
       "       ['09gas', 'Electric Conduction in Gases'],\n",
       "       ['09ac', 'Alternating Current (ac)'],\n",
       "       ['10band', 'The Band Theory of Solids'],\n",
       "       ['10semi', 'Semiconductors'],\n",
       "       ['10tran', 'Transistors'],\n",
       "       ['10log', 'Logic Gates'],\n",
       "       ['10amp', 'Operational Amplifiers'],\n",
       "       ['10tel', 'Telecommunication'],\n",
       "       ['11atom', 'Structure of the Atom'],\n",
       "       ['11quantum', 'Quantum Physics'],\n",
       "       ['11laser', 'LASER'],\n",
       "       ['11nuclear', 'Nuclear Physics'],\n",
       "       ['12ag', 'Agricultural Physics'],\n",
       "       ['12energy', 'Energy from the environment'],\n",
       "       ['12quakes', 'Earthquakes'],\n",
       "       ['12poll', 'Environmental Pollution']], dtype='<U55')"
      ]
     },
     "execution_count": 2,
     "metadata": {},
     "output_type": "execute_result"
    }
   ],
   "source": [
    "pair"
   ]
  },
  {
   "cell_type": "code",
   "execution_count": null,
   "metadata": {},
   "outputs": [],
   "source": []
  },
  {
   "cell_type": "code",
   "execution_count": null,
   "metadata": {},
   "outputs": [],
   "source": []
  },
  {
   "cell_type": "markdown",
   "metadata": {},
   "source": [
    "#### If you want a fun check to see if it works"
   ]
  },
  {
   "cell_type": "code",
   "execution_count": null,
   "metadata": {},
   "outputs": [],
   "source": [
    "# Confirm that it works!\n",
    "\n",
    "pd.read_csv('csv_files/'+str(cur_year)+'.csv', index_col=0)"
   ]
  }
 ],
 "metadata": {
  "kernelspec": {
   "display_name": "Python 3",
   "language": "python",
   "name": "python3"
  },
  "language_info": {
   "codemirror_mode": {
    "name": "ipython",
    "version": 3
   },
   "file_extension": ".py",
   "mimetype": "text/x-python",
   "name": "python",
   "nbconvert_exporter": "python",
   "pygments_lexer": "ipython3",
   "version": "3.7.3"
  }
 },
 "nbformat": 4,
 "nbformat_minor": 2
}
