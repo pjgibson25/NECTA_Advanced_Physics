{
 "cells": [
  {
   "cell_type": "code",
   "execution_count": 27,
   "metadata": {},
   "outputs": [],
   "source": [
    "import os\n",
    "import numpy as np"
   ]
  },
  {
   "cell_type": "code",
   "execution_count": 28,
   "metadata": {},
   "outputs": [],
   "source": [
    "curdir = os.getcwd()\n",
    "\n",
    "os.chdir('/home/pj/Documents/Github/NECTA_Advanced_Physics/FINAL_PDFS/by_year/')\n",
    "\n",
    "contents = np.array(os.listdir())\n",
    "\n",
    "cond = [contents[i][:7] == 'by_year' for i in np.arange(0,len(contents))]"
   ]
  },
  {
   "cell_type": "code",
   "execution_count": 29,
   "metadata": {},
   "outputs": [],
   "source": [
    "important = contents[cond]\n",
    "\n",
    "important.sort()\n",
    "\n"
   ]
  },
  {
   "cell_type": "code",
   "execution_count": 30,
   "metadata": {},
   "outputs": [],
   "source": [
    "tots = []\n",
    "\n",
    "for i in np.arange(0,len(important)):\n",
    "    item = important[i]\n",
    "    pt1 = item.split('(')[0]\n",
    "    pt2 = item.split(')')[1]\n",
    "    mid = item.split('(')[1].split(')')[0]\n",
    "    if len(mid) == 1:\n",
    "        mid = '0'+mid\n",
    "    mid = '('+mid+')'\n",
    "    fullname = pt1+mid+pt2\n",
    "    os.rename(item,fullname)\n",
    "    tots.append(pt1+mid+pt2)"
   ]
  },
  {
   "cell_type": "code",
   "execution_count": 31,
   "metadata": {},
   "outputs": [],
   "source": [
    "tots.sort()"
   ]
  },
  {
   "cell_type": "code",
   "execution_count": 32,
   "metadata": {},
   "outputs": [
    {
     "data": {
      "text/plain": [
       "['by_year_zip(00).pdf',\n",
       " 'by_year_zip(01).pdf',\n",
       " 'by_year_zip(02).pdf',\n",
       " 'by_year_zip(03).pdf',\n",
       " 'by_year_zip(04).pdf',\n",
       " 'by_year_zip(05).pdf',\n",
       " 'by_year_zip(06).pdf',\n",
       " 'by_year_zip(07).pdf',\n",
       " 'by_year_zip(08).pdf',\n",
       " 'by_year_zip(09).pdf',\n",
       " 'by_year_zip(10).pdf',\n",
       " 'by_year_zip(11).pdf',\n",
       " 'by_year_zip(12).pdf',\n",
       " 'by_year_zip(13).pdf',\n",
       " 'by_year_zip(14).pdf',\n",
       " 'by_year_zip(15).pdf',\n",
       " 'by_year_zip(16).pdf',\n",
       " 'by_year_zip(17).pdf',\n",
       " 'by_year_zip(18).pdf',\n",
       " 'by_year_zip(19).pdf',\n",
       " 'by_year_zip(20).pdf',\n",
       " 'by_year_zip(21).pdf']"
      ]
     },
     "execution_count": 32,
     "metadata": {},
     "output_type": "execute_result"
    }
   ],
   "source": [
    "tots"
   ]
  },
  {
   "cell_type": "code",
   "execution_count": 33,
   "metadata": {},
   "outputs": [],
   "source": [
    "os.chdir('../../Final_Project/by_year/')\n",
    "realnames = os.listdir()\n",
    "realnames.sort()"
   ]
  },
  {
   "cell_type": "code",
   "execution_count": null,
   "metadata": {},
   "outputs": [],
   "source": []
  },
  {
   "cell_type": "code",
   "execution_count": 35,
   "metadata": {},
   "outputs": [],
   "source": [
    "os.chdir('/home/pj/Documents/Github/NECTA_Advanced_Physics/FINAL_PDFS/by_year/')\n",
    "\n",
    "to_path = '/home/pj/Documents/Github/NECTA_Advanced_Physics/FINAL_PDFS/by_year/'\n",
    "\n",
    "\n",
    "for i in np.arange(0,len(tots)):\n",
    "    from_name = tots[i]\n",
    "    to_name = realnames[i].split('.')[0]+'.pdf'\n",
    "    os.rename(to_path+from_name,to_path+to_name)"
   ]
  },
  {
   "cell_type": "code",
   "execution_count": null,
   "metadata": {},
   "outputs": [],
   "source": []
  }
 ],
 "metadata": {
  "kernelspec": {
   "display_name": "Python 3",
   "language": "python",
   "name": "python3"
  },
  "language_info": {
   "codemirror_mode": {
    "name": "ipython",
    "version": 3
   },
   "file_extension": ".py",
   "mimetype": "text/x-python",
   "name": "python",
   "nbconvert_exporter": "python",
   "pygments_lexer": "ipython3",
   "version": "3.7.3"
  }
 },
 "nbformat": 4,
 "nbformat_minor": 2
}
